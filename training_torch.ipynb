{
  "cells": [
    {
      "cell_type": "code",
      "execution_count": 1,
      "metadata": {
        "id": "pUSNRoe1zJ5r"
      },
      "outputs": [],
      "source": [
        "import re\n",
        "import nltk\n",
        "from nltk.corpus import stopwords\n",
        "import pandas as pd\n",
        "import numpy as np\n",
        "import matplotlib.pyplot as plt\n",
        "from sklearn.feature_extraction.text import TfidfVectorizer\n",
        "from sklearn.model_selection import train_test_split\n",
        "from sklearn.metrics import accuracy_score\n",
        "from sklearn.preprocessing import LabelEncoder, OneHotEncoder, MinMaxScaler\n",
        "from sklearn.ensemble import RandomForestClassifier\n",
        "from sklearn.utils.class_weight import compute_class_weight\n",
        "from xgboost import XGBClassifier\n",
        "import torch\n",
        "import torch.nn as nn\n",
        "import torch.optim as optim \n",
        "from torch.utils.data import Dataset, DataLoader\n",
        "from Sastrawi.Stemmer.StemmerFactory import StemmerFactory"
      ]
    },
    {
      "cell_type": "code",
      "execution_count": 2,
      "metadata": {
        "colab": {
          "base_uri": "https://localhost:8080/"
        },
        "id": "ypGvx2VSl0sp",
        "outputId": "aec6eb98-102d-4721-f0af-86e40cd5a217"
      },
      "outputs": [
        {
          "name": "stderr",
          "output_type": "stream",
          "text": [
            "[nltk_data] Downloading package stopwords to\n",
            "[nltk_data]     C:\\Users\\kusmo\\AppData\\Roaming\\nltk_data...\n",
            "[nltk_data]   Package stopwords is already up-to-date!\n"
          ]
        },
        {
          "data": {
            "text/plain": [
              "True"
            ]
          },
          "execution_count": 2,
          "metadata": {},
          "output_type": "execute_result"
        }
      ],
      "source": [
        "nltk.download('stopwords')"
      ]
    },
    {
      "cell_type": "code",
      "execution_count": 3,
      "metadata": {
        "id": "sV4uUYkAlyZV"
      },
      "outputs": [],
      "source": [
        "factory = StemmerFactory()\n",
        "stemmer = factory.create_stemmer()"
      ]
    },
    {
      "cell_type": "code",
      "execution_count": 4,
      "metadata": {
        "id": "SuKsyj5CzJ5v"
      },
      "outputs": [],
      "source": [
        "stop_words = set(stopwords.words(\"indonesian\")) \n",
        "def bersihkan_teks(teks):\n",
        "    teks = teks.lower()\n",
        "    teks = re.sub(r'\\d+', '', teks)\n",
        "    teks = re.sub(r\"http\\S+|www\\S+|https\\S+\", \"\", teks, flags=re.MULTILINE)\n",
        "    teks = re.sub(r\"@\\w+|#\", \"\", teks)\n",
        "    teks = re.sub(r\"[^\\w\\s]\", \"\", teks)\n",
        "    teks = re.sub(r'<.*?>', '', teks)\n",
        "    teks = re.sub(r'\\s+', ' ', teks).strip()\n",
        "    teks = \" \".join([stemmer.stem(word) for word in teks.split() if word not in stop_words])\n",
        "    return teks"
      ]
    },
    {
      "cell_type": "code",
      "execution_count": 5,
      "metadata": {
        "id": "2lWdYbDczJ5y"
      },
      "outputs": [],
      "source": [
        "df = pd.read_csv(\"dataset_pengaduan.csv\")"
      ]
    },
    {
      "cell_type": "code",
      "execution_count": 6,
      "metadata": {
        "id": "L1juhqA7zJ50"
      },
      "outputs": [],
      "source": [
        "df['konten'] = df['pengaduan'].apply(bersihkan_teks)\n",
        "df['pengaduan'] = df['konten']\n",
        "df.drop(columns=['pengaduan'], inplace=True)"
      ]
    },
    {
      "cell_type": "code",
      "execution_count": 7,
      "metadata": {
        "colab": {
          "base_uri": "https://localhost:8080/",
          "height": 206
        },
        "id": "O0b-6fnRzJ51",
        "outputId": "a636d7e4-cb1d-4aeb-c5a4-0bd74e64a0a7"
      },
      "outputs": [
        {
          "data": {
            "text/html": [
              "<div>\n",
              "<style scoped>\n",
              "    .dataframe tbody tr th:only-of-type {\n",
              "        vertical-align: middle;\n",
              "    }\n",
              "\n",
              "    .dataframe tbody tr th {\n",
              "        vertical-align: top;\n",
              "    }\n",
              "\n",
              "    .dataframe thead th {\n",
              "        text-align: right;\n",
              "    }\n",
              "</style>\n",
              "<table border=\"1\" class=\"dataframe\">\n",
              "  <thead>\n",
              "    <tr style=\"text-align: right;\">\n",
              "      <th></th>\n",
              "      <th>date</th>\n",
              "      <th>konten</th>\n",
              "      <th>kategori</th>\n",
              "      <th>sentimen</th>\n",
              "    </tr>\n",
              "  </thead>\n",
              "  <tbody>\n",
              "    <tr>\n",
              "      <th>0</th>\n",
              "      <td>1980-01-01</td>\n",
              "      <td>macet parah area parkir pintu masuk</td>\n",
              "      <td>Transportasi</td>\n",
              "      <td>negatif</td>\n",
              "    </tr>\n",
              "    <tr>\n",
              "      <th>1</th>\n",
              "      <td>1980-01-02</td>\n",
              "      <td>kualitas ajar turun pustaka pustaka guru profe...</td>\n",
              "      <td>Pendidikan</td>\n",
              "      <td>positif</td>\n",
              "    </tr>\n",
              "    <tr>\n",
              "      <th>2</th>\n",
              "      <td>1980-01-03</td>\n",
              "      <td>fasilitas sekolah manajemen buruk minim ruang ...</td>\n",
              "      <td>Pendidikan</td>\n",
              "      <td>negatif</td>\n",
              "    </tr>\n",
              "    <tr>\n",
              "      <th>3</th>\n",
              "      <td>1980-01-04</td>\n",
              "      <td>sedia obat darurat cukup menit pasien</td>\n",
              "      <td>Kesehatan</td>\n",
              "      <td>positif</td>\n",
              "    </tr>\n",
              "    <tr>\n",
              "      <th>4</th>\n",
              "      <td>1980-01-05</td>\n",
              "      <td>jadwal bus menit lambat tumpang pagi</td>\n",
              "      <td>Transportasi</td>\n",
              "      <td>netral</td>\n",
              "    </tr>\n",
              "  </tbody>\n",
              "</table>\n",
              "</div>"
            ],
            "text/plain": [
              "         date                                             konten  \\\n",
              "0  1980-01-01                macet parah area parkir pintu masuk   \n",
              "1  1980-01-02  kualitas ajar turun pustaka pustaka guru profe...   \n",
              "2  1980-01-03  fasilitas sekolah manajemen buruk minim ruang ...   \n",
              "3  1980-01-04              sedia obat darurat cukup menit pasien   \n",
              "4  1980-01-05               jadwal bus menit lambat tumpang pagi   \n",
              "\n",
              "       kategori sentimen  \n",
              "0  Transportasi  negatif  \n",
              "1    Pendidikan  positif  \n",
              "2    Pendidikan  negatif  \n",
              "3     Kesehatan  positif  \n",
              "4  Transportasi   netral  "
            ]
          },
          "execution_count": 7,
          "metadata": {},
          "output_type": "execute_result"
        }
      ],
      "source": [
        "df_classification = df[['date','konten', 'kategori', 'sentimen']]\n",
        "df_classification.head()"
      ]
    },
    {
      "cell_type": "markdown",
      "metadata": {
        "id": "P31UxcBY7RX2"
      },
      "source": [
        "# Pre-proccessing Data"
      ]
    },
    {
      "cell_type": "markdown",
      "metadata": {
        "id": "-mWj62EH7e8P"
      },
      "source": [
        "## pre-sklearn"
      ]
    },
    {
      "cell_type": "markdown",
      "metadata": {
        "id": "7U2wmGZPzJ53"
      },
      "source": [
        "Ekstrasi fitur menggunakan TF-IDF untuk menghitung nilai dari kata."
      ]
    },
    {
      "cell_type": "code",
      "execution_count": 8,
      "metadata": {
        "id": "I_9U_TpkzJ54"
      },
      "outputs": [],
      "source": [
        "tfidf = TfidfVectorizer()\n",
        "konten_tfidf = tfidf.fit_transform(df_classification['konten']).toarray()"
      ]
    },
    {
      "cell_type": "markdown",
      "metadata": {
        "id": "7ZPvIowpzJ55"
      },
      "source": [
        "Mengubah kategori menjadi label agar bisa digabung untuk meningkatkan kualitas training."
      ]
    },
    {
      "cell_type": "code",
      "execution_count": 9,
      "metadata": {},
      "outputs": [],
      "source": [
        "ohe = OneHotEncoder()\n",
        "kategori_encoded = ohe.fit_transform(df_classification[['kategori']]).toarray()"
      ]
    },
    {
      "cell_type": "markdown",
      "metadata": {
        "id": "UI3KVoXUzJ56"
      },
      "source": [
        "Mengubah sentimen menjadi label, agar bisa digunakan untuk prediksi"
      ]
    },
    {
      "cell_type": "code",
      "execution_count": 10,
      "metadata": {
        "colab": {
          "base_uri": "https://localhost:8080/"
        },
        "id": "uw5ceaiSzJ56",
        "outputId": "38549015-322d-44b8-c8f1-3232cb49d51a"
      },
      "outputs": [],
      "source": [
        "le = LabelEncoder()"
      ]
    },
    {
      "cell_type": "markdown",
      "metadata": {
        "id": "x0-EJDdU5pKd"
      },
      "source": [
        "## pre-deep learning"
      ]
    },
    {
      "cell_type": "code",
      "execution_count": 11,
      "metadata": {},
      "outputs": [
        {
          "name": "stderr",
          "output_type": "stream",
          "text": [
            "C:\\Users\\kusmo\\AppData\\Local\\Temp\\ipykernel_11416\\2359209205.py:1: SettingWithCopyWarning: \n",
            "A value is trying to be set on a copy of a slice from a DataFrame.\n",
            "Try using .loc[row_indexer,col_indexer] = value instead\n",
            "\n",
            "See the caveats in the documentation: https://pandas.pydata.org/pandas-docs/stable/user_guide/indexing.html#returning-a-view-versus-a-copy\n",
            "  df_classification['date'] = pd.to_datetime(df_classification['date'])\n",
            "C:\\Users\\kusmo\\AppData\\Local\\Temp\\ipykernel_11416\\2359209205.py:3: SettingWithCopyWarning: \n",
            "A value is trying to be set on a copy of a slice from a DataFrame.\n",
            "Try using .loc[row_indexer,col_indexer] = value instead\n",
            "\n",
            "See the caveats in the documentation: https://pandas.pydata.org/pandas-docs/stable/user_guide/indexing.html#returning-a-view-versus-a-copy\n",
            "  df_classification['year'] = df_classification['date'].dt.year\n"
          ]
        }
      ],
      "source": [
        "df_classification['date'] = pd.to_datetime(df_classification['date'])\n",
        "\n",
        "df_classification['year'] = df_classification['date'].dt.year\n",
        "df_classification['month'] = df_classification['date'].dt.month\n",
        "df_classification['day'] = df_classification['date'].dt.day\n",
        "df_classification['weekday'] = df_classification['date'].dt.weekday"
      ]
    },
    {
      "cell_type": "code",
      "execution_count": 12,
      "metadata": {},
      "outputs": [],
      "source": [
        "date_features = df_classification[['year', 'month', 'day', 'weekday']].values"
      ]
    },
    {
      "cell_type": "code",
      "execution_count": 13,
      "metadata": {},
      "outputs": [],
      "source": [
        "scaler = MinMaxScaler()\n",
        "date_features_scaled = scaler.fit_transform(date_features)"
      ]
    },
    {
      "cell_type": "markdown",
      "metadata": {
        "id": "9g7qsgY_zJ57"
      },
      "source": [
        "# Split data"
      ]
    },
    {
      "cell_type": "markdown",
      "metadata": {
        "id": "R8qjt4bB8jds"
      },
      "source": [
        "## Split for sklearn"
      ]
    },
    {
      "cell_type": "code",
      "execution_count": 14,
      "metadata": {},
      "outputs": [],
      "source": [
        "feature = np.hstack((konten_tfidf, kategori_encoded, date_features_scaled))\n",
        "target = le.fit_transform(df_classification['sentimen'])"
      ]
    },
    {
      "cell_type": "code",
      "execution_count": 15,
      "metadata": {
        "id": "pqHt7tlqzJ57"
      },
      "outputs": [],
      "source": [
        "X = feature\n",
        "y = target"
      ]
    },
    {
      "cell_type": "code",
      "execution_count": 16,
      "metadata": {
        "id": "sOYFdY8OzJ58"
      },
      "outputs": [],
      "source": [
        "X_train, X_test, y_train, y_test = train_test_split(\n",
        "    X,\n",
        "    y,\n",
        "    test_size=0.2,\n",
        "    random_state=42)"
      ]
    },
    {
      "cell_type": "markdown",
      "metadata": {
        "id": "2mLnIr1h8ohy"
      },
      "source": [
        "## Split for Deep Learning"
      ]
    },
    {
      "cell_type": "markdown",
      "metadata": {},
      "source": [
        "### Ekstraksi Fitur khusus deep learning"
      ]
    },
    {
      "cell_type": "code",
      "execution_count": 17,
      "metadata": {},
      "outputs": [],
      "source": [
        "df_train, df_val = train_test_split(df_classification, test_size=0.2, random_state=42)"
      ]
    },
    {
      "cell_type": "code",
      "execution_count": 18,
      "metadata": {},
      "outputs": [],
      "source": [
        "tfidf = TfidfVectorizer()\n",
        "konten_train = tfidf.fit_transform(df_train['konten']).toarray()\n",
        "konten_val = tfidf.transform(df_val['konten']).toarray()\n",
        "\n",
        "ohe = OneHotEncoder()\n",
        "kategori_train = ohe.fit_transform(df_train[['kategori']]).toarray()\n",
        "kategori_val = ohe.transform(df_val[['kategori']]).toarray()\n",
        "\n",
        "for df in [df_train, df_val]:\n",
        "    df['date'] = pd.to_datetime(df['date'])\n",
        "    df['year'] = df['date'].dt.year\n",
        "    df['month'] = df['date'].dt.month\n",
        "    df['day'] = df['date'].dt.day\n",
        "    df['weekday'] = df['date'].dt.weekday\n",
        "\n",
        "date_features_train = df_train[['year', 'month', 'day', 'weekday']].values\n",
        "date_features_val = df_val[['year', 'month', 'day', 'weekday']].values\n",
        "\n",
        "scaler = MinMaxScaler()\n",
        "date_features_train_scaled = scaler.fit_transform(date_features_train)\n",
        "date_features_val_scaled = scaler.transform(date_features_val)"
      ]
    },
    {
      "cell_type": "code",
      "execution_count": 19,
      "metadata": {},
      "outputs": [],
      "source": [
        "X_train_nn = np.hstack((konten_train, kategori_train, date_features_train_scaled))\n",
        "X_val = np.hstack((konten_val, kategori_val, date_features_val_scaled))"
      ]
    },
    {
      "cell_type": "code",
      "execution_count": 20,
      "metadata": {},
      "outputs": [],
      "source": [
        "le = LabelEncoder()\n",
        "y_train_nn = le.fit_transform(df_train['sentimen'])\n",
        "y_val = le.transform(df_val['sentimen'])"
      ]
    },
    {
      "cell_type": "markdown",
      "metadata": {},
      "source": [
        "### Split Data"
      ]
    },
    {
      "cell_type": "code",
      "execution_count": 21,
      "metadata": {
        "id": "MV39DTnKzJ58"
      },
      "outputs": [],
      "source": [
        "class CustomDataset(Dataset):\n",
        "    def __init__(self, X, y):\n",
        "        self.X = torch.FloatTensor(X)\n",
        "        self.y = torch.LongTensor(y)\n",
        "        \n",
        "    def __len__(self):\n",
        "        return len(self.X)\n",
        "    \n",
        "    def __getitem__(self, idx):\n",
        "        return self.X[idx], self.y[idx]"
      ]
    },
    {
      "cell_type": "code",
      "execution_count": 22,
      "metadata": {},
      "outputs": [],
      "source": [
        "train_dataset = CustomDataset(X_train_nn, y_train_nn)\n",
        "val_dataset = CustomDataset(X_val, y_val)"
      ]
    },
    {
      "cell_type": "code",
      "execution_count": 23,
      "metadata": {},
      "outputs": [],
      "source": [
        "train_loader = DataLoader(train_dataset, batch_size=32, shuffle=True)\n",
        "val_loader = DataLoader(val_dataset, batch_size=32, shuffle=False)"
      ]
    },
    {
      "cell_type": "markdown",
      "metadata": {
        "id": "ZwrnVSwU-lcO"
      },
      "source": [
        "# Pembuatan Model"
      ]
    },
    {
      "cell_type": "markdown",
      "metadata": {
        "id": "rOK5IOfq-ouz"
      },
      "source": [
        "## Model sklearn"
      ]
    },
    {
      "cell_type": "code",
      "execution_count": 24,
      "metadata": {
        "id": "wrVxufkYzJ59"
      },
      "outputs": [],
      "source": [
        "model_xgb = XGBClassifier()\n",
        "model_rf = RandomForestClassifier(class_weight='balanced', random_state=42)"
      ]
    },
    {
      "cell_type": "markdown",
      "metadata": {
        "id": "Cj9jSFf5-uU_"
      },
      "source": [
        "## Model Deep Learning menggunakan Pytorch"
      ]
    },
    {
      "cell_type": "code",
      "execution_count": 25,
      "metadata": {
        "colab": {
          "base_uri": "https://localhost:8080/"
        },
        "id": "cZBScPc6-tXS",
        "outputId": "498ab437-83aa-4d0f-da4e-fa33c7e5f205"
      },
      "outputs": [],
      "source": [
        "class DL_model(nn.Module):\n",
        "    def __init__(self, input_dim, hidden_dims=[1024, 512, 256, 128, 64], num_classes=3):\n",
        "        super(DL_model, self).__init__()\n",
        "        \n",
        "        layers = []\n",
        "        prev_dim = input_dim\n",
        "        \n",
        "        for dim in hidden_dims:\n",
        "            layers.extend([\n",
        "                nn.Linear(prev_dim, dim),\n",
        "                nn.ReLU(),\n",
        "                nn.BatchNorm1d(dim),\n",
        "                nn.Dropout(0.5)\n",
        "            ])\n",
        "            prev_dim = dim\n",
        "            \n",
        "        layers.append(nn.Linear(prev_dim, num_classes))\n",
        "        self.model = nn.Sequential(*layers)\n",
        "    \n",
        "    def forward(self, x):\n",
        "        return self.model(x)"
      ]
    },
    {
      "cell_type": "markdown",
      "metadata": {
        "id": "2Iyl9IZNOyDW"
      },
      "source": [
        "Balancing sentiment"
      ]
    },
    {
      "cell_type": "code",
      "execution_count": 26,
      "metadata": {
        "colab": {
          "base_uri": "https://localhost:8080/"
        },
        "id": "A8haNIZvNn4P",
        "outputId": "0d586cd8-0d40-4c02-ef09-908ae52c18d9"
      },
      "outputs": [
        {
          "name": "stdout",
          "output_type": "stream",
          "text": [
            "sentimen\n",
            "negatif    9850\n",
            "positif    5978\n",
            "netral     4172\n",
            "Name: count, dtype: int64\n"
          ]
        }
      ],
      "source": [
        "print(df_classification['sentimen'].value_counts()) "
      ]
    },
    {
      "cell_type": "code",
      "execution_count": 27,
      "metadata": {
        "id": "GES20Qn6O2S0"
      },
      "outputs": [],
      "source": [
        "class_weights = compute_class_weight(\n",
        "    class_weight='balanced',\n",
        "    classes=np.unique(y_train),  \n",
        "    y=y_train \n",
        ")\n",
        "class_weight_dict = dict(enumerate(class_weights))"
      ]
    },
    {
      "cell_type": "code",
      "execution_count": 28,
      "metadata": {
        "id": "6Ltx5Wf4bON8"
      },
      "outputs": [],
      "source": [
        "# for key in class_weight_dict:\n",
        "#     class_weight_dict[key] = min(class_weight_dict[key], 1.5)"
      ]
    },
    {
      "cell_type": "code",
      "execution_count": 29,
      "metadata": {
        "colab": {
          "base_uri": "https://localhost:8080/"
        },
        "id": "6tLBWKMabPL4",
        "outputId": "979ad70c-363c-4031-fe5e-96abb1b09e7f"
      },
      "outputs": [
        {
          "name": "stdout",
          "output_type": "stream",
          "text": [
            "{0: 0.6753619517960406, 1: 1.6049754238138227, 2: 1.1157601115760112}\n"
          ]
        }
      ],
      "source": [
        "print(class_weight_dict)"
      ]
    },
    {
      "cell_type": "markdown",
      "metadata": {
        "id": "R9maYoce_FaN"
      },
      "source": [
        "# Training Model"
      ]
    },
    {
      "cell_type": "markdown",
      "metadata": {
        "id": "pyl77DSQ_K6J"
      },
      "source": [
        "## Model sklearn"
      ]
    },
    {
      "cell_type": "code",
      "execution_count": 30,
      "metadata": {
        "id": "e3JOs2knzJ5-"
      },
      "outputs": [],
      "source": [
        "#Training Model XGBoost\n",
        "model_xgb.fit(X_train, y_train)\n",
        "y_train_predic_xgb = model_xgb.predict(X_train)\n",
        "y_test_predic_xgb = model_xgb.predict(X_test)"
      ]
    },
    {
      "cell_type": "code",
      "execution_count": 31,
      "metadata": {
        "colab": {
          "base_uri": "https://localhost:8080/"
        },
        "id": "gyj1kpI2zJ5-",
        "outputId": "14149870-c6bf-403c-c012-8152eb5420fc"
      },
      "outputs": [
        {
          "name": "stdout",
          "output_type": "stream",
          "text": [
            "XGBoost:\n",
            "Akurasi Training: 0.6339\n",
            "Akurasi Testing: 0.4690\n"
          ]
        }
      ],
      "source": [
        "train_accuracy_xgb = accuracy_score(y_train, y_train_predic_xgb)\n",
        "test_accuracy_xgb = accuracy_score(y_test, y_test_predic_xgb)\n",
        "\n",
        "print(\"XGBoost:\")\n",
        "print(f\"Akurasi Training: {train_accuracy_xgb:.4f}\")\n",
        "print(f\"Akurasi Testing: {test_accuracy_xgb:.4f}\")"
      ]
    },
    {
      "cell_type": "code",
      "execution_count": 32,
      "metadata": {
        "id": "M0xopxByzJ5_"
      },
      "outputs": [],
      "source": [
        "#Training Model Random Forest\n",
        "model_rf.fit(X_train, y_train)\n",
        "y_train_predic_rf = model_rf.predict(X_train)\n",
        "y_test_predic_rf = model_rf.predict(X_test)"
      ]
    },
    {
      "cell_type": "code",
      "execution_count": 33,
      "metadata": {
        "colab": {
          "base_uri": "https://localhost:8080/"
        },
        "id": "lY4Ylp9BzJ5_",
        "outputId": "613b0756-c980-45aa-8089-c7f933313b23"
      },
      "outputs": [
        {
          "name": "stdout",
          "output_type": "stream",
          "text": [
            "Random Forest:\n",
            "Akurasi Training: 1.0000\n",
            "Akurasi Testing: 0.4223\n"
          ]
        }
      ],
      "source": [
        "train_accuracy_rf = accuracy_score(y_train, y_train_predic_rf)\n",
        "test_accuracy_rf = accuracy_score(y_test, y_test_predic_rf)\n",
        "\n",
        "print(\"Random Forest:\")\n",
        "print(f\"Akurasi Training: {train_accuracy_rf:.4f}\")\n",
        "print(f\"Akurasi Testing: {test_accuracy_rf:.4f}\")"
      ]
    },
    {
      "cell_type": "markdown",
      "metadata": {
        "id": "3BOOyZRi_QqC"
      },
      "source": [
        "## Model Pytorch"
      ]
    },
    {
      "cell_type": "code",
      "execution_count": 34,
      "metadata": {},
      "outputs": [],
      "source": [
        "class EarlyStopping:\n",
        "    def __init__(self, patience=5, min_delta=0, verbose=True):\n",
        "        self.patience = patience\n",
        "        self.min_delta = min_delta\n",
        "        self.counter = 0\n",
        "        self.best_loss = None\n",
        "        self.early_stop = False\n",
        "        self.best_model = None\n",
        "        self.verbose = verbose\n",
        "        \n",
        "    def __call__(self, val_loss, model):\n",
        "        if self.best_loss is None:\n",
        "            self.best_loss = val_loss\n",
        "            self.best_model = model.state_dict().copy() \n",
        "            if self.verbose:\n",
        "                print(f'Validation loss: {val_loss:.6f} (first checkpoint). Saving model...')\n",
        "        elif val_loss > self.best_loss - self.min_delta:\n",
        "            self.counter += 1\n",
        "            if self.verbose:\n",
        "                print(f'EarlyStopping counter: {self.counter}/{self.patience} (best: {self.best_loss:.6f}, current: {val_loss:.6f})')\n",
        "            if self.counter >= self.patience:\n",
        "                self.early_stop = True\n",
        "        else:\n",
        "            self.best_loss = val_loss\n",
        "            self.best_model = model.state_dict().copy()\n",
        "            self.counter = 0"
      ]
    },
    {
      "cell_type": "code",
      "execution_count": 35,
      "metadata": {
        "id": "-fnCGTX5zJ5_"
      },
      "outputs": [],
      "source": [
        "input_dim = X_train.shape[1]\n",
        "deep_model = DL_model(input_dim=input_dim)"
      ]
    },
    {
      "cell_type": "code",
      "execution_count": 36,
      "metadata": {},
      "outputs": [],
      "source": [
        "accelerator = torch.device('cuda' if torch.cuda.is_available() else 'cpu')\n",
        "deep_model = deep_model.to(accelerator)"
      ]
    },
    {
      "cell_type": "code",
      "execution_count": 37,
      "metadata": {
        "colab": {
          "base_uri": "https://localhost:8080/",
          "height": 381
        },
        "id": "hHz0dgTBzJ6A",
        "outputId": "bb43d76c-c9fc-4c3e-b92e-626fd01f7d67"
      },
      "outputs": [],
      "source": [
        "criterion = nn.CrossEntropyLoss()\n",
        "optimizer = optim.AdamW(deep_model.parameters(), lr=0.005, weight_decay=1e-4)"
      ]
    },
    {
      "cell_type": "code",
      "execution_count": 38,
      "metadata": {
        "id": "1IJ1XvetzJ6A"
      },
      "outputs": [],
      "source": [
        "class_weights= torch.FloatTensor(class_weights).to(accelerator)\n",
        "\n",
        "train_dataset = CustomDataset(X_train, y_train)\n",
        "train_loader = DataLoader(train_dataset, batch_size=64, shuffle=True)"
      ]
    },
    {
      "cell_type": "code",
      "execution_count": 39,
      "metadata": {
        "colab": {
          "base_uri": "https://localhost:8080/"
        },
        "id": "Y47Q6MfrzJ6B",
        "outputId": "19b018e0-b26c-42e9-cd18-bdffc56717fd"
      },
      "outputs": [],
      "source": [
        "def training(model, train_loader, val_loader, criterion, optimizer, num_epochs):\n",
        "    model.train()\n",
        "    early_stopping = EarlyStopping(patience=5, verbose=True)\n",
        "    train_losses = []\n",
        "    train_accs = []\n",
        "    val_losses = []\n",
        "    val_accs = []\n",
        "    \n",
        "    for epoch in range(num_epochs):\n",
        "        running_loss = 0.0\n",
        "        correct = 0\n",
        "        total = 0\n",
        "        \n",
        "        model.train()\n",
        "        for inputs, labels in train_loader:\n",
        "            inputs, labels = inputs.to(accelerator), labels.to(accelerator)\n",
        "            \n",
        "            #forward\n",
        "            outputs = model(inputs)\n",
        "            loss = criterion(outputs, labels)\n",
        "            \n",
        "            #backward and optim\n",
        "            optimizer.zero_grad()\n",
        "            loss.backward()\n",
        "            optimizer.step()\n",
        "            accelerator\n",
        "            \n",
        "            #statistic\n",
        "            running_loss += loss.item()\n",
        "            _, predicted = torch.max(outputs.data, 1)\n",
        "            total += labels.size(0)\n",
        "            correct += (predicted == labels).sum().item()\n",
        "\n",
        "        epoch_loss = running_loss / len(train_loader)\n",
        "        epoch_acc = 100 * correct / total\n",
        "        \n",
        "        model.eval()  \n",
        "        val_running_loss = 0.0\n",
        "        val_correct = 0\n",
        "        val_total = 0\n",
        "        \n",
        "        with torch.no_grad():  \n",
        "            for val_inputs, val_labels in val_loader:\n",
        "                val_inputs, val_labels = val_inputs.to(accelerator), val_labels.to(accelerator)\n",
        "                val_outputs = model(val_inputs)\n",
        "                val_loss = criterion(val_outputs, val_labels)\n",
        "                \n",
        "                val_running_loss += val_loss.item()\n",
        "                _, val_predicted = torch.max(val_outputs.data, 1)\n",
        "                val_total += val_labels.size(0)\n",
        "                val_correct += (val_predicted == val_labels).sum().item()\n",
        "        \n",
        "        val_epoch_loss = val_running_loss / len(val_loader)\n",
        "        val_epoch_acc = 100 * val_correct / val_total\n",
        "        \n",
        "        train_losses.append(epoch_loss)\n",
        "        train_accs.append(epoch_acc)\n",
        "        val_losses.append(val_epoch_loss)\n",
        "        val_accs.append(val_epoch_acc)\n",
        "        \n",
        "        print(f'Epoch [{epoch+1}/{num_epochs}], '\n",
        "              f'Train Loss: {epoch_loss:.4f}, Train Accuracy: {epoch_acc:.2f}%, '\n",
        "              f'Val Loss: {val_epoch_loss:.4f}, Val Accuracy: {val_epoch_acc:.2f}%')\n",
        "    \n",
        "        early_stopping(val_epoch_acc, model)\n",
        "        if early_stopping.early_stop:   \n",
        "            print(\"There is no improvement, Early Stopping Activated!\")\n",
        "            model.load_state_dict(early_stopping.best_model)\n",
        "            break\n",
        "        \n",
        "        \n",
        "    return train_losses, train_accs, val_losses, val_accs"
      ]
    },
    {
      "cell_type": "code",
      "execution_count": 40,
      "metadata": {},
      "outputs": [
        {
          "name": "stdout",
          "output_type": "stream",
          "text": [
            "Epoch [1/100], Train Loss: 1.0734, Train Accuracy: 45.79%, Val Loss: 1.0473, Val Accuracy: 48.83%\n",
            "Validation loss: 48.825000 (first checkpoint). Saving model...\n",
            "Epoch [2/100], Train Loss: 1.0491, Train Accuracy: 48.59%, Val Loss: 1.0446, Val Accuracy: 48.75%\n",
            "Epoch [3/100], Train Loss: 1.0441, Train Accuracy: 48.86%, Val Loss: 1.0419, Val Accuracy: 48.83%\n",
            "EarlyStopping counter: 1/5 (best: 48.750000, current: 48.825000)\n",
            "Epoch [4/100], Train Loss: 1.0414, Train Accuracy: 49.21%, Val Loss: 1.0410, Val Accuracy: 48.83%\n",
            "EarlyStopping counter: 2/5 (best: 48.750000, current: 48.825000)\n",
            "Epoch [5/100], Train Loss: 1.0401, Train Accuracy: 49.27%, Val Loss: 1.0416, Val Accuracy: 48.83%\n",
            "EarlyStopping counter: 3/5 (best: 48.750000, current: 48.825000)\n",
            "Epoch [6/100], Train Loss: 1.0384, Train Accuracy: 49.34%, Val Loss: 1.0406, Val Accuracy: 48.83%\n",
            "EarlyStopping counter: 4/5 (best: 48.750000, current: 48.825000)\n",
            "Epoch [7/100], Train Loss: 1.0378, Train Accuracy: 49.35%, Val Loss: 1.0409, Val Accuracy: 48.83%\n",
            "EarlyStopping counter: 5/5 (best: 48.750000, current: 48.825000)\n",
            "There is no improvement, Early Stopping Activated!\n"
          ]
        }
      ],
      "source": [
        "train_losses, train_accur, val_loss, val_acc = training(\n",
        "    deep_model,\n",
        "    train_loader,\n",
        "    val_loader,\n",
        "    criterion,\n",
        "    optimizer,\n",
        "    num_epochs=100\n",
        ")"
      ]
    },
    {
      "cell_type": "code",
      "execution_count": 41,
      "metadata": {
        "colab": {
          "base_uri": "https://localhost:8080/",
          "height": 395
        },
        "id": "Kvv_VblD27Qs",
        "outputId": "743a6ed3-56d4-4900-ac91-bbb4a4a021f9"
      },
      "outputs": [],
      "source": [
        "def evaluate_model(model, X_test, y_test):\n",
        "    model.eval()\n",
        "    with torch.no_grad():\n",
        "        X_test = torch.FloatTensor(X_test).to(accelerator)\n",
        "        y_test = torch.LongTensor(y_test).to(accelerator)\n",
        "        \n",
        "        outputs = model(X_test)\n",
        "        _, predicted = torch.max(outputs.data, 1)\n",
        "        \n",
        "        accuracy = (predicted == y_test).sum().item() / len(y_test)\n",
        "        \n",
        "    return accuracy"
      ]
    },
    {
      "cell_type": "code",
      "execution_count": 42,
      "metadata": {},
      "outputs": [
        {
          "name": "stdout",
          "output_type": "stream",
          "text": [
            "Test Accuracy: 48.83%\n"
          ]
        }
      ],
      "source": [
        "test_accuracy = evaluate_model(deep_model, X_test, y_test)\n",
        "print(f'Test Accuracy: {test_accuracy*100:.2f}%')"
      ]
    },
    {
      "cell_type": "code",
      "execution_count": 53,
      "metadata": {},
      "outputs": [
        {
          "data": {
            "image/png": "[encoded data removed]",
            "text/plain": [
              "<Figure size 1200x400 with 2 Axes>"
            ]
          },
          "metadata": {},
          "output_type": "display_data"
        }
      ],
      "source": [
        "def plot_training_history(train_losses, train_accs, val_loss, val_acc):\n",
        "    plt.figure(figsize=(12, 4))\n",
        "    \n",
        "    plt.subplot(1, 2, 1)  \n",
        "    plt.plot(train_losses, label='Train', color='black')\n",
        "    plt.plot(val_loss, label='Validation', color='purple')\n",
        "    plt.title('Loss per Epoch')\n",
        "    plt.xlabel('Epoch')\n",
        "    plt.ylabel('Loss')\n",
        "    plt.legend()\n",
        "    plt.grid()\n",
        "\n",
        "    # Grafik untuk Akurasi\n",
        "    plt.subplot(1, 2, 2)  \n",
        "    plt.plot(train_accs, label='Train', color='black')\n",
        "    plt.plot(val_acc, label='Validation', color='purple')\n",
        "    plt.title('Accuracy per Epoch')\n",
        "    plt.xlabel('Epoch')\n",
        "    plt.ylabel('Accuracy (%)')\n",
        "    plt.legend()  \n",
        "    plt.grid()\n",
        "\n",
        "    plt.tight_layout()  \n",
        "    plt.show()\n",
        "    \n",
        "plot_training_history(train_losses, train_accur, val_loss, val_acc)"
      ]
    }
  ],
  "metadata": {
    "accelerator": "GPU",
    "colab": {
      "gpuType": "T4",
      "provenance": []
    },
    "kernelspec": {
      "display_name": "Python 3",
      "name": "python3"
    },
    "language_info": {
      "codemirror_mode": {
        "name": "ipython",
        "version": 3
      },
      "file_extension": ".py",
      "mimetype": "text/x-python",
      "name": "python",
      "nbconvert_exporter": "python",
      "pygments_lexer": "ipython3",
      "version": "3.10.11"
    }
  },
  "nbformat": 4,
  "nbformat_minor": 0
}
