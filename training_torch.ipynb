{
  "cells": [
    {
      "cell_type": "code",
      "source": [
        "!pip install sastrawi"
      ],
      "metadata": {
        "colab": {
          "base_uri": "https://localhost:8080/",
          "height": 0
        },
        "id": "go6tQ7lCmtly",
        "outputId": "635d73f5-5569-44d6-9194-4e81f4fed822"
      },
      "execution_count": 1,
      "outputs": [
        {
          "output_type": "stream",
          "name": "stdout",
          "text": [
            "Requirement already satisfied: sastrawi in /usr/local/lib/python3.11/dist-packages (1.0.1)\n"
          ]
        }
      ]
    },
    {
      "cell_type": "code",
      "execution_count": 2,
      "metadata": {
        "id": "pUSNRoe1zJ5r"
      },
      "outputs": [],
      "source": [
        "import re\n",
        "import nltk\n",
        "from nltk.corpus import stopwords\n",
        "import pandas as pd\n",
        "import numpy as np\n",
        "import matplotlib.pyplot as plt\n",
        "import torch\n",
        "import torch.nn as nn\n",
        "import torch.optim as optim\n",
        "from torch.utils.data import Dataset, DataLoader\n",
        "from sklearn.preprocessing import LabelEncoder, OneHotEncoder, MinMaxScaler\n",
        "from sklearn.utils.class_weight import compute_class_weight\n",
        "from sklearn.model_selection import train_test_split\n",
        "from Sastrawi.Stemmer.StemmerFactory import StemmerFactory\n",
        "from collections import Counter\n",
        "from tensorflow.keras.preprocessing.sequence import pad_sequences"
      ]
    },
    {
      "cell_type": "code",
      "execution_count": 3,
      "metadata": {
        "id": "ypGvx2VSl0sp",
        "colab": {
          "base_uri": "https://localhost:8080/",
          "height": 0
        },
        "outputId": "1242e920-d746-4d40-85df-7bc77e12a09f"
      },
      "outputs": [
        {
          "output_type": "stream",
          "name": "stderr",
          "text": [
            "[nltk_data] Downloading package stopwords to /root/nltk_data...\n",
            "[nltk_data]   Package stopwords is already up-to-date!\n"
          ]
        },
        {
          "output_type": "execute_result",
          "data": {
            "text/plain": [
              "True"
            ]
          },
          "metadata": {},
          "execution_count": 3
        }
      ],
      "source": [
        "nltk.download('stopwords')"
      ]
    },
    {
      "cell_type": "code",
      "execution_count": 4,
      "metadata": {
        "id": "sV4uUYkAlyZV"
      },
      "outputs": [],
      "source": [
        "factory = StemmerFactory()\n",
        "stemmer = factory.create_stemmer()"
      ]
    },
    {
      "cell_type": "code",
      "execution_count": 5,
      "metadata": {
        "id": "SuKsyj5CzJ5v"
      },
      "outputs": [],
      "source": [
        "stop_words = set(stopwords.words(\"indonesian\"))\n",
        "def bersihkan_teks(teks):\n",
        "    teks = teks.lower()\n",
        "    teks = re.sub(r'\\d+', '', teks)\n",
        "    teks = re.sub(r\"http\\S+|www\\S+|https\\S+\", \"\", teks, flags=re.MULTILINE)\n",
        "    teks = re.sub(r\"@\\w+|#\", \"\", teks)\n",
        "    teks = re.sub(r\"[^\\w\\s]\", \"\", teks)\n",
        "    teks = re.sub(r'<.*?>', '', teks)\n",
        "    teks = re.sub(r'\\s+', ' ', teks).strip()\n",
        "    tokens = \" \".join([stemmer.stem(word) for word in teks.split() if word not in stop_words])\n",
        "    return tokens"
      ]
    },
    {
      "cell_type": "code",
      "execution_count": 6,
      "metadata": {
        "id": "hNFjZoVPa27s"
      },
      "outputs": [],
      "source": [
        "csv_file = \"dataset_pengaduan.csv\""
      ]
    },
    {
      "cell_type": "code",
      "execution_count": 7,
      "metadata": {
        "id": "2lWdYbDczJ5y"
      },
      "outputs": [],
      "source": [
        "df = pd.read_csv(csv_file)"
      ]
    },
    {
      "cell_type": "code",
      "execution_count": 8,
      "metadata": {
        "colab": {
          "base_uri": "https://localhost:8080/",
          "height": 0
        },
        "id": "Iim2Sq6HmUV5",
        "outputId": "96509241-8981-4972-c84c-1a5c878c47d2"
      },
      "outputs": [
        {
          "output_type": "stream",
          "name": "stdout",
          "text": [
            "Index(['ID', 'date', 'kategori', 'pengaduan', 'sentimen', 'jumlah_pengaduan'], dtype='object')\n"
          ]
        }
      ],
      "source": [
        "print(df.columns)"
      ]
    },
    {
      "cell_type": "code",
      "execution_count": 9,
      "metadata": {
        "id": "L1juhqA7zJ50"
      },
      "outputs": [],
      "source": [
        "df['konten'] = df['pengaduan'].apply(bersihkan_teks)\n",
        "df.drop(columns=['pengaduan'], inplace=True)"
      ]
    },
    {
      "cell_type": "code",
      "execution_count": 10,
      "metadata": {
        "id": "O0b-6fnRzJ51",
        "colab": {
          "base_uri": "https://localhost:8080/",
          "height": 206
        },
        "outputId": "19e9df5b-f857-4a86-d6f7-a02f4c8d593a"
      },
      "outputs": [
        {
          "output_type": "execute_result",
          "data": {
            "text/plain": [
              "         date                                             konten  \\\n",
              "0  1980-01-01                macet parah area parkir pintu masuk   \n",
              "1  1980-01-02  kualitas ajar turun pustaka pustaka guru profe...   \n",
              "2  1980-01-03  fasilitas sekolah manajemen buruk minim ruang ...   \n",
              "3  1980-01-04              sedia obat darurat cukup menit pasien   \n",
              "4  1980-01-05               jadwal bus menit lambat tumpang pagi   \n",
              "\n",
              "       kategori sentimen  \n",
              "0  Transportasi  negatif  \n",
              "1    Pendidikan  positif  \n",
              "2    Pendidikan  negatif  \n",
              "3     Kesehatan  positif  \n",
              "4  Transportasi   netral  "
            ],
            "text/html": [
              "\n",
              "  <div id=\"df-79c739fc-d5cc-4cbe-b342-f5352710cdb0\" class=\"colab-df-container\">\n",
              "    <div>\n",
              "<style scoped>\n",
              "    .dataframe tbody tr th:only-of-type {\n",
              "        vertical-align: middle;\n",
              "    }\n",
              "\n",
              "    .dataframe tbody tr th {\n",
              "        vertical-align: top;\n",
              "    }\n",
              "\n",
              "    .dataframe thead th {\n",
              "        text-align: right;\n",
              "    }\n",
              "</style>\n",
              "<table border=\"1\" class=\"dataframe\">\n",
              "  <thead>\n",
              "    <tr style=\"text-align: right;\">\n",
              "      <th></th>\n",
              "      <th>date</th>\n",
              "      <th>konten</th>\n",
              "      <th>kategori</th>\n",
              "      <th>sentimen</th>\n",
              "    </tr>\n",
              "  </thead>\n",
              "  <tbody>\n",
              "    <tr>\n",
              "      <th>0</th>\n",
              "      <td>1980-01-01</td>\n",
              "      <td>macet parah area parkir pintu masuk</td>\n",
              "      <td>Transportasi</td>\n",
              "      <td>negatif</td>\n",
              "    </tr>\n",
              "    <tr>\n",
              "      <th>1</th>\n",
              "      <td>1980-01-02</td>\n",
              "      <td>kualitas ajar turun pustaka pustaka guru profe...</td>\n",
              "      <td>Pendidikan</td>\n",
              "      <td>positif</td>\n",
              "    </tr>\n",
              "    <tr>\n",
              "      <th>2</th>\n",
              "      <td>1980-01-03</td>\n",
              "      <td>fasilitas sekolah manajemen buruk minim ruang ...</td>\n",
              "      <td>Pendidikan</td>\n",
              "      <td>negatif</td>\n",
              "    </tr>\n",
              "    <tr>\n",
              "      <th>3</th>\n",
              "      <td>1980-01-04</td>\n",
              "      <td>sedia obat darurat cukup menit pasien</td>\n",
              "      <td>Kesehatan</td>\n",
              "      <td>positif</td>\n",
              "    </tr>\n",
              "    <tr>\n",
              "      <th>4</th>\n",
              "      <td>1980-01-05</td>\n",
              "      <td>jadwal bus menit lambat tumpang pagi</td>\n",
              "      <td>Transportasi</td>\n",
              "      <td>netral</td>\n",
              "    </tr>\n",
              "  </tbody>\n",
              "</table>\n",
              "</div>\n",
              "    <div class=\"colab-df-buttons\">\n",
              "\n",
              "  <div class=\"colab-df-container\">\n",
              "    <button class=\"colab-df-convert\" onclick=\"convertToInteractive('df-79c739fc-d5cc-4cbe-b342-f5352710cdb0')\"\n",
              "            title=\"Convert this dataframe to an interactive table.\"\n",
              "            style=\"display:none;\">\n",
              "\n",
              "  <svg xmlns=\"http://www.w3.org/2000/svg\" height=\"24px\" viewBox=\"0 -960 960 960\">\n",
              "    <path d=\"M120-120v-720h720v720H120Zm60-500h600v-160H180v160Zm220 220h160v-160H400v160Zm0 220h160v-160H400v160ZM180-400h160v-160H180v160Zm440 0h160v-160H620v160ZM180-180h160v-160H180v160Zm440 0h160v-160H620v160Z\"/>\n",
              "  </svg>\n",
              "    </button>\n",
              "\n",
              "  <style>\n",
              "    .colab-df-container {\n",
              "      display:flex;\n",
              "      gap: 12px;\n",
              "    }\n",
              "\n",
              "    .colab-df-convert {\n",
              "      background-color: #E8F0FE;\n",
              "      border: none;\n",
              "      border-radius: 50%;\n",
              "      cursor: pointer;\n",
              "      display: none;\n",
              "      fill: #1967D2;\n",
              "      height: 32px;\n",
              "      padding: 0 0 0 0;\n",
              "      width: 32px;\n",
              "    }\n",
              "\n",
              "    .colab-df-convert:hover {\n",
              "      background-color: #E2EBFA;\n",
              "      box-shadow: 0px 1px 2px rgba(60, 64, 67, 0.3), 0px 1px 3px 1px rgba(60, 64, 67, 0.15);\n",
              "      fill: #174EA6;\n",
              "    }\n",
              "\n",
              "    .colab-df-buttons div {\n",
              "      margin-bottom: 4px;\n",
              "    }\n",
              "\n",
              "    [theme=dark] .colab-df-convert {\n",
              "      background-color: #3B4455;\n",
              "      fill: #D2E3FC;\n",
              "    }\n",
              "\n",
              "    [theme=dark] .colab-df-convert:hover {\n",
              "      background-color: #434B5C;\n",
              "      box-shadow: 0px 1px 3px 1px rgba(0, 0, 0, 0.15);\n",
              "      filter: drop-shadow(0px 1px 2px rgba(0, 0, 0, 0.3));\n",
              "      fill: #FFFFFF;\n",
              "    }\n",
              "  </style>\n",
              "\n",
              "    <script>\n",
              "      const buttonEl =\n",
              "        document.querySelector('#df-79c739fc-d5cc-4cbe-b342-f5352710cdb0 button.colab-df-convert');\n",
              "      buttonEl.style.display =\n",
              "        google.colab.kernel.accessAllowed ? 'block' : 'none';\n",
              "\n",
              "      async function convertToInteractive(key) {\n",
              "        const element = document.querySelector('#df-79c739fc-d5cc-4cbe-b342-f5352710cdb0');\n",
              "        const dataTable =\n",
              "          await google.colab.kernel.invokeFunction('convertToInteractive',\n",
              "                                                    [key], {});\n",
              "        if (!dataTable) return;\n",
              "\n",
              "        const docLinkHtml = 'Like what you see? Visit the ' +\n",
              "          '<a target=\"_blank\" href=https://colab.research.google.com/notebooks/data_table.ipynb>data table notebook</a>'\n",
              "          + ' to learn more about interactive tables.';\n",
              "        element.innerHTML = '';\n",
              "        dataTable['output_type'] = 'display_data';\n",
              "        await google.colab.output.renderOutput(dataTable, element);\n",
              "        const docLink = document.createElement('div');\n",
              "        docLink.innerHTML = docLinkHtml;\n",
              "        element.appendChild(docLink);\n",
              "      }\n",
              "    </script>\n",
              "  </div>\n",
              "\n",
              "\n",
              "<div id=\"df-0a0ec41a-7d76-4b08-b838-577780b20afc\">\n",
              "  <button class=\"colab-df-quickchart\" onclick=\"quickchart('df-0a0ec41a-7d76-4b08-b838-577780b20afc')\"\n",
              "            title=\"Suggest charts\"\n",
              "            style=\"display:none;\">\n",
              "\n",
              "<svg xmlns=\"http://www.w3.org/2000/svg\" height=\"24px\"viewBox=\"0 0 24 24\"\n",
              "     width=\"24px\">\n",
              "    <g>\n",
              "        <path d=\"M19 3H5c-1.1 0-2 .9-2 2v14c0 1.1.9 2 2 2h14c1.1 0 2-.9 2-2V5c0-1.1-.9-2-2-2zM9 17H7v-7h2v7zm4 0h-2V7h2v10zm4 0h-2v-4h2v4z\"/>\n",
              "    </g>\n",
              "</svg>\n",
              "  </button>\n",
              "\n",
              "<style>\n",
              "  .colab-df-quickchart {\n",
              "      --bg-color: #E8F0FE;\n",
              "      --fill-color: #1967D2;\n",
              "      --hover-bg-color: #E2EBFA;\n",
              "      --hover-fill-color: #174EA6;\n",
              "      --disabled-fill-color: #AAA;\n",
              "      --disabled-bg-color: #DDD;\n",
              "  }\n",
              "\n",
              "  [theme=dark] .colab-df-quickchart {\n",
              "      --bg-color: #3B4455;\n",
              "      --fill-color: #D2E3FC;\n",
              "      --hover-bg-color: #434B5C;\n",
              "      --hover-fill-color: #FFFFFF;\n",
              "      --disabled-bg-color: #3B4455;\n",
              "      --disabled-fill-color: #666;\n",
              "  }\n",
              "\n",
              "  .colab-df-quickchart {\n",
              "    background-color: var(--bg-color);\n",
              "    border: none;\n",
              "    border-radius: 50%;\n",
              "    cursor: pointer;\n",
              "    display: none;\n",
              "    fill: var(--fill-color);\n",
              "    height: 32px;\n",
              "    padding: 0;\n",
              "    width: 32px;\n",
              "  }\n",
              "\n",
              "  .colab-df-quickchart:hover {\n",
              "    background-color: var(--hover-bg-color);\n",
              "    box-shadow: 0 1px 2px rgba(60, 64, 67, 0.3), 0 1px 3px 1px rgba(60, 64, 67, 0.15);\n",
              "    fill: var(--button-hover-fill-color);\n",
              "  }\n",
              "\n",
              "  .colab-df-quickchart-complete:disabled,\n",
              "  .colab-df-quickchart-complete:disabled:hover {\n",
              "    background-color: var(--disabled-bg-color);\n",
              "    fill: var(--disabled-fill-color);\n",
              "    box-shadow: none;\n",
              "  }\n",
              "\n",
              "  .colab-df-spinner {\n",
              "    border: 2px solid var(--fill-color);\n",
              "    border-color: transparent;\n",
              "    border-bottom-color: var(--fill-color);\n",
              "    animation:\n",
              "      spin 1s steps(1) infinite;\n",
              "  }\n",
              "\n",
              "  @keyframes spin {\n",
              "    0% {\n",
              "      border-color: transparent;\n",
              "      border-bottom-color: var(--fill-color);\n",
              "      border-left-color: var(--fill-color);\n",
              "    }\n",
              "    20% {\n",
              "      border-color: transparent;\n",
              "      border-left-color: var(--fill-color);\n",
              "      border-top-color: var(--fill-color);\n",
              "    }\n",
              "    30% {\n",
              "      border-color: transparent;\n",
              "      border-left-color: var(--fill-color);\n",
              "      border-top-color: var(--fill-color);\n",
              "      border-right-color: var(--fill-color);\n",
              "    }\n",
              "    40% {\n",
              "      border-color: transparent;\n",
              "      border-right-color: var(--fill-color);\n",
              "      border-top-color: var(--fill-color);\n",
              "    }\n",
              "    60% {\n",
              "      border-color: transparent;\n",
              "      border-right-color: var(--fill-color);\n",
              "    }\n",
              "    80% {\n",
              "      border-color: transparent;\n",
              "      border-right-color: var(--fill-color);\n",
              "      border-bottom-color: var(--fill-color);\n",
              "    }\n",
              "    90% {\n",
              "      border-color: transparent;\n",
              "      border-bottom-color: var(--fill-color);\n",
              "    }\n",
              "  }\n",
              "</style>\n",
              "\n",
              "  <script>\n",
              "    async function quickchart(key) {\n",
              "      const quickchartButtonEl =\n",
              "        document.querySelector('#' + key + ' button');\n",
              "      quickchartButtonEl.disabled = true;  // To prevent multiple clicks.\n",
              "      quickchartButtonEl.classList.add('colab-df-spinner');\n",
              "      try {\n",
              "        const charts = await google.colab.kernel.invokeFunction(\n",
              "            'suggestCharts', [key], {});\n",
              "      } catch (error) {\n",
              "        console.error('Error during call to suggestCharts:', error);\n",
              "      }\n",
              "      quickchartButtonEl.classList.remove('colab-df-spinner');\n",
              "      quickchartButtonEl.classList.add('colab-df-quickchart-complete');\n",
              "    }\n",
              "    (() => {\n",
              "      let quickchartButtonEl =\n",
              "        document.querySelector('#df-0a0ec41a-7d76-4b08-b838-577780b20afc button');\n",
              "      quickchartButtonEl.style.display =\n",
              "        google.colab.kernel.accessAllowed ? 'block' : 'none';\n",
              "    })();\n",
              "  </script>\n",
              "</div>\n",
              "\n",
              "    </div>\n",
              "  </div>\n"
            ],
            "application/vnd.google.colaboratory.intrinsic+json": {
              "type": "dataframe",
              "variable_name": "df_classification",
              "summary": "{\n  \"name\": \"df_classification\",\n  \"rows\": 20000,\n  \"fields\": [\n    {\n      \"column\": \"date\",\n      \"properties\": {\n        \"dtype\": \"object\",\n        \"num_unique_values\": 20000,\n        \"samples\": [\n          \"2009-02-27\",\n          \"1985-08-03\",\n          \"2003-09-25\"\n        ],\n        \"semantic_type\": \"\",\n        \"description\": \"\"\n      }\n    },\n    {\n      \"column\": \"konten\",\n      \"properties\": {\n        \"dtype\": \"category\",\n        \"num_unique_values\": 2088,\n        \"samples\": [\n          \"antri klinik darurat ganggu nondarurat pasien\",\n          \"sedia obat yogyakarta cukup bandung pasien\",\n          \"bangun palembang pejal kaki kes terburuburu kualitas\"\n        ],\n        \"semantic_type\": \"\",\n        \"description\": \"\"\n      }\n    },\n    {\n      \"column\": \"kategori\",\n      \"properties\": {\n        \"dtype\": \"category\",\n        \"num_unique_values\": 5,\n        \"samples\": [\n          \"Pendidikan\",\n          \"Infrastruktur\",\n          \"Kesehatan\"\n        ],\n        \"semantic_type\": \"\",\n        \"description\": \"\"\n      }\n    },\n    {\n      \"column\": \"sentimen\",\n      \"properties\": {\n        \"dtype\": \"category\",\n        \"num_unique_values\": 3,\n        \"samples\": [\n          \"negatif\",\n          \"positif\",\n          \"netral\"\n        ],\n        \"semantic_type\": \"\",\n        \"description\": \"\"\n      }\n    }\n  ]\n}"
            }
          },
          "metadata": {},
          "execution_count": 10
        }
      ],
      "source": [
        "df_classification = df[['date', 'konten', 'kategori', 'sentimen']]\n",
        "df_classification.head()"
      ]
    },
    {
      "cell_type": "code",
      "execution_count": 11,
      "metadata": {
        "id": "kApRfJNZauSq"
      },
      "outputs": [],
      "source": [
        "def build_vocab(texts, max_words=10000):\n",
        "    all_tokens = [token for text in texts for token in text]\n",
        "    token_counts = Counter(all_tokens)\n",
        "    most_common = token_counts.most_common(max_words - 2)  # -2 untuk <pad> dan <unk>\n",
        "    vocab = {'<pad>': 0, '<unk>': 1}\n",
        "    for i, (token, _) in enumerate(most_common, 2):\n",
        "        vocab[token] = i\n",
        "    return vocab"
      ]
    },
    {
      "cell_type": "code",
      "execution_count": 12,
      "metadata": {
        "id": "CC-UIb2ZmUV7"
      },
      "outputs": [],
      "source": [
        "df_train, df_val = train_test_split(df_classification, test_size=0.2, random_state=42)"
      ]
    },
    {
      "cell_type": "code",
      "execution_count": 13,
      "metadata": {
        "id": "I_9U_TpkzJ54"
      },
      "outputs": [],
      "source": [
        "vocab = build_vocab(df_classification['konten'])"
      ]
    },
    {
      "cell_type": "code",
      "execution_count": 14,
      "metadata": {
        "id": "hkWyOwPKmUV8"
      },
      "outputs": [],
      "source": [
        "def text_to_indices(tokens, vocab):\n",
        "    return [vocab.get(token, vocab['<unk>']) for token in tokens]"
      ]
    },
    {
      "cell_type": "code",
      "execution_count": 15,
      "metadata": {
        "id": "a_Lmqd1IKVpM"
      },
      "outputs": [],
      "source": [
        "ohe = OneHotEncoder()\n",
        "kategori_train = ohe.fit_transform(df_train[['kategori']]).toarray()\n",
        "kategori_val = ohe.transform(df_val[['kategori']]).toarray()"
      ]
    },
    {
      "cell_type": "code",
      "execution_count": 16,
      "metadata": {
        "id": "uw5ceaiSzJ56"
      },
      "outputs": [],
      "source": [
        "df_train['date'] = pd.to_datetime(df_train['date'])\n",
        "df_val['date'] = pd.to_datetime(df_val['date'])\n",
        "\n",
        "date_features_train = np.array([\n",
        "    df_train['date'].dt.year,\n",
        "    df_train['date'].dt.month,\n",
        "    df_train['date'].dt.day,\n",
        "    df_train['date'].dt.weekday\n",
        "]).T\n",
        "\n",
        "date_features_val = np.array([\n",
        "    df_val['date'].dt.year,\n",
        "    df_val['date'].dt.month,\n",
        "    df_val['date'].dt.day,\n",
        "    df_val['date'].dt.weekday\n",
        "]).T"
      ]
    },
    {
      "cell_type": "code",
      "execution_count": 17,
      "metadata": {
        "id": "RC_rHk-FmUV9"
      },
      "outputs": [],
      "source": [
        "scaler = MinMaxScaler()\n",
        "date_features_train_scaled = scaler.fit_transform(date_features_train)\n",
        "date_features_val_scaled = scaler.transform(date_features_val)"
      ]
    },
    {
      "cell_type": "code",
      "execution_count": 18,
      "metadata": {
        "id": "6bdahBHcmUV9"
      },
      "outputs": [],
      "source": [
        "label_encoder = LabelEncoder()\n",
        "y_train = label_encoder.fit_transform(df_train['sentimen'])\n",
        "y_val = label_encoder.transform(df_val['sentimen'])"
      ]
    },
    {
      "cell_type": "code",
      "execution_count": 19,
      "metadata": {
        "id": "TgTnK2XyKVpT"
      },
      "outputs": [],
      "source": [
        "class SentimentDataset(Dataset):\n",
        "    def __init__(self, df, vocab, kategori, date_features, labels, max_len=100):\n",
        "        self.texts = df['konten'].values\n",
        "        self.kategori = kategori\n",
        "        self.date_features = date_features\n",
        "        self.labels = labels\n",
        "        self.vocab = vocab\n",
        "        self.max_len = max_len\n",
        "\n",
        "    def __len__(self):\n",
        "        return len(self.texts)\n",
        "\n",
        "    def __getitem__(self, idx):\n",
        "        text = self.texts[idx]\n",
        "        indices = text_to_indices(text, self.vocab)\n",
        "        indices = indices[:self.max_len] + [self.vocab['<pad>']] * (self.max_len - len(indices)) if len(indices) < self.max_len else indices[:self.max_len]\n",
        "        return {\n",
        "            'text': torch.tensor(indices, dtype=torch.long),\n",
        "            'kategori': torch.tensor(self.kategori[idx], dtype=torch.float),\n",
        "            'date_features': torch.tensor(self.date_features[idx], dtype=torch.float),\n",
        "            'label': torch.tensor(self.labels[idx], dtype=torch.long)\n",
        "        }"
      ]
    },
    {
      "cell_type": "code",
      "execution_count": 20,
      "metadata": {
        "id": "rLLuk_dgKVpT"
      },
      "outputs": [],
      "source": [
        "max_len = 100\n",
        "train_dataset = SentimentDataset(df_train, vocab, kategori_train, date_features_train_scaled, y_train, max_len)\n",
        "val_dataset = SentimentDataset(df_val, vocab, kategori_val, date_features_val_scaled, y_val, max_len)"
      ]
    },
    {
      "cell_type": "code",
      "execution_count": 21,
      "metadata": {
        "id": "wz76HnXZKVpU"
      },
      "outputs": [],
      "source": [
        "train_loader = DataLoader(train_dataset, batch_size=64, shuffle=True)\n",
        "val_loader = DataLoader(val_dataset, batch_size=64, shuffle=False)"
      ]
    },
    {
      "cell_type": "code",
      "execution_count": 22,
      "metadata": {
        "id": "yPNglPWlfFeN"
      },
      "outputs": [],
      "source": [
        "accelerator = torch.device('cuda' if torch.cuda.is_available() else 'cpu')"
      ]
    },
    {
      "cell_type": "code",
      "execution_count": 23,
      "metadata": {
        "id": "_RkhMI--mUV-"
      },
      "outputs": [],
      "source": [
        "class LSTMModel(nn.Module):\n",
        "    def __init__(self, vocab_size, embedding_dim=300, num_kategori=10, num_date=4, hidden_dim=256, num_classes=3, dropout=0.3):\n",
        "        super(LSTMModel, self).__init__()\n",
        "        self.embedding = nn.Embedding(vocab_size, embedding_dim, padding_idx=0)\n",
        "        self.lstm = nn.LSTM(\n",
        "            input_size=embedding_dim,\n",
        "            hidden_size=hidden_dim,\n",
        "            num_layers=2,\n",
        "            batch_first=True,\n",
        "            dropout=dropout,\n",
        "            bidirectional=True\n",
        "        )\n",
        "        self.attention = nn.Linear(hidden_dim * 2, 1)\n",
        "        self.fc_lstm = nn.Linear(hidden_dim * 2, 128)\n",
        "        self.fc_additional = nn.Linear(num_kategori + num_date, 64)\n",
        "        self.fc = nn.Sequential(\n",
        "            nn.Linear(128 + 64, 256),\n",
        "            nn.ReLU(),\n",
        "            nn.Dropout(dropout),\n",
        "            nn.Linear(256, num_classes)\n",
        "        )\n",
        "\n",
        "    def forward(self, inputs):\n",
        "        text, kategori, date_features = inputs\n",
        "        embedded = self.embedding(text)\n",
        "        lstm_out, (hidden, _) = self.lstm(embedded)\n",
        "        attn_weights = torch.softmax(self.attention(lstm_out), dim=1)\n",
        "        context = torch.sum(attn_weights * lstm_out, dim=1)\n",
        "        lstm_out = self.fc_lstm(context)\n",
        "        additional = torch.cat((kategori, date_features), dim=1)\n",
        "        additional = self.fc_additional(additional)\n",
        "        combined = torch.cat((lstm_out, additional), dim=1)\n",
        "        out = self.fc(combined)\n",
        "        return out"
      ]
    },
    {
      "cell_type": "code",
      "execution_count": 24,
      "metadata": {
        "id": "8RMpepzXmUV-"
      },
      "outputs": [],
      "source": [
        "model = LSTMModel(\n",
        "    vocab_size=len(vocab),\n",
        "    embedding_dim=300,\n",
        "    num_kategori=kategori_train.shape[1],\n",
        "    num_date=date_features_train_scaled.shape[1],\n",
        "    hidden_dim=256,\n",
        "    num_classes=3\n",
        ").to(accelerator)"
      ]
    },
    {
      "cell_type": "code",
      "execution_count": 25,
      "metadata": {
        "id": "GES20Qn6O2S0"
      },
      "outputs": [],
      "source": [
        "class_weights = compute_class_weight(\n",
        "    class_weight='balanced',\n",
        "    classes=np.unique(y_val),\n",
        "    y=y_val\n",
        ")\n",
        "class_weight_dict = dict(enumerate(class_weights))"
      ]
    },
    {
      "cell_type": "code",
      "execution_count": 26,
      "metadata": {
        "id": "6tLBWKMabPL4",
        "colab": {
          "base_uri": "https://localhost:8080/",
          "height": 0
        },
        "outputId": "ad8c0ddc-d496-4bde-ce5b-f9f57beb5145"
      },
      "outputs": [
        {
          "output_type": "stream",
          "name": "stdout",
          "text": [
            "{0: np.float64(0.682710360129715), 1: np.float64(1.5704750687082842), 2: np.float64(1.1129660545353366)}\n"
          ]
        }
      ],
      "source": [
        "print(class_weight_dict)"
      ]
    },
    {
      "cell_type": "markdown",
      "metadata": {
        "id": "R9maYoce_FaN"
      },
      "source": [
        "# Training Model"
      ]
    },
    {
      "cell_type": "code",
      "execution_count": 27,
      "metadata": {
        "id": "-nev-1ElmUWA"
      },
      "outputs": [],
      "source": [
        "class_weights= torch.FloatTensor(class_weights).to(accelerator)"
      ]
    },
    {
      "cell_type": "code",
      "execution_count": 28,
      "metadata": {
        "id": "hHz0dgTBzJ6A"
      },
      "outputs": [],
      "source": [
        "criterion = nn.CrossEntropyLoss()\n",
        "optimizer = optim.AdamW(model.parameters(), lr=0.001, weight_decay=1e-5)"
      ]
    },
    {
      "cell_type": "code",
      "execution_count": 29,
      "metadata": {
        "id": "Y47Q6MfrzJ6B"
      },
      "outputs": [],
      "source": [
        "def training(model, train_loader, val_loader, criterion, optimizer, num_epochs=50):\n",
        "    train_losses, train_accs, val_losses, val_accs = [], [], [], []\n",
        "    best_val_loss = float('inf')\n",
        "    patience = 5\n",
        "    patience_counter = 0\n",
        "\n",
        "    for epoch in range(num_epochs):\n",
        "        model.train()\n",
        "        running_loss = 0.0\n",
        "        correct = 0\n",
        "        total = 0\n",
        "\n",
        "        for batch in train_loader:\n",
        "            texts = batch['text'].to(accelerator)\n",
        "            kategori = batch['kategori'].to(accelerator)\n",
        "            date_features = batch['date_features'].to(accelerator)\n",
        "            labels = batch['label'].to(accelerator)\n",
        "\n",
        "            optimizer.zero_grad()\n",
        "            outputs = model((texts, kategori, date_features))\n",
        "            loss = criterion(outputs, labels)\n",
        "            loss.backward()\n",
        "            optimizer.step()\n",
        "\n",
        "            running_loss += loss.item()\n",
        "            _, predicted = torch.max(outputs.data, 1)\n",
        "            total += labels.size(0)\n",
        "            correct += (predicted == labels).sum().item()\n",
        "\n",
        "        epoch_loss = running_loss / len(train_loader)\n",
        "        epoch_acc = 100 * correct / total\n",
        "        train_losses.append(epoch_loss)\n",
        "        train_accs.append(epoch_acc)\n",
        "\n",
        "        # Validasi\n",
        "        model.eval()\n",
        "        val_loss = 0.0\n",
        "        val_correct = 0\n",
        "        val_total = 0\n",
        "\n",
        "        with torch.no_grad():\n",
        "            for batch in val_loader:\n",
        "                texts = batch['text'].to(accelerator)\n",
        "                kategori = batch['kategori'].to(accelerator)\n",
        "                date_features = batch['date_features'].to(accelerator)\n",
        "                labels = batch['label'].to(accelerator)\n",
        "\n",
        "                outputs = model((texts, kategori, date_features))\n",
        "                loss = criterion(outputs, labels)\n",
        "                val_loss += loss.item()\n",
        "                _, predicted = torch.max(outputs.data, 1)\n",
        "                val_total += labels.size(0)\n",
        "                val_correct += (predicted == labels).sum().item()\n",
        "\n",
        "        epoch_val_loss = val_loss / len(val_loader)\n",
        "        epoch_val_acc = 100 * val_correct / val_total\n",
        "        val_losses.append(epoch_val_loss)\n",
        "        val_accs.append(epoch_val_acc)\n",
        "\n",
        "        print(f'Epoch [{epoch+1}/{num_epochs}], '\n",
        "              f'Train Loss: {epoch_loss:.4f}, Train Acc: {epoch_acc:.2f}%, '\n",
        "              f'Val Loss: {epoch_val_loss:.4f}, Val Acc: {epoch_val_acc:.2f}%')\n",
        "\n",
        "        if epoch_val_loss < best_val_loss:\n",
        "            best_val_loss = epoch_val_loss\n",
        "            patience_counter = 0\n",
        "            torch.save(model.state_dict(), 'best_model.pt')\n",
        "        else:\n",
        "            patience_counter += 1\n",
        "            if patience_counter >= patience:\n",
        "                print(\"Early stopping triggered.\")\n",
        "                break\n",
        "\n",
        "    return train_losses, train_accs, val_losses, val_accs"
      ]
    },
    {
      "cell_type": "code",
      "execution_count": 30,
      "metadata": {
        "id": "mGefF2WYKVps",
        "colab": {
          "base_uri": "https://localhost:8080/",
          "height": 0
        },
        "outputId": "18da26ff-a5d9-492d-dfa7-bffdf4f7899c"
      },
      "outputs": [
        {
          "output_type": "stream",
          "name": "stdout",
          "text": [
            "Epoch [1/50], Train Loss: 1.0408, Train Acc: 49.33%, Val Loss: 1.0414, Val Acc: 48.83%\n",
            "Epoch [2/50], Train Loss: 1.0387, Train Acc: 49.36%, Val Loss: 1.0411, Val Acc: 48.83%\n",
            "Epoch [3/50], Train Loss: 1.0389, Train Acc: 49.36%, Val Loss: 1.0402, Val Acc: 48.83%\n",
            "Epoch [4/50], Train Loss: 1.0387, Train Acc: 49.36%, Val Loss: 1.0421, Val Acc: 48.83%\n",
            "Epoch [5/50], Train Loss: 1.0378, Train Acc: 49.36%, Val Loss: 1.0404, Val Acc: 48.83%\n",
            "Epoch [6/50], Train Loss: 1.0375, Train Acc: 49.36%, Val Loss: 1.0406, Val Acc: 48.83%\n",
            "Epoch [7/50], Train Loss: 1.0372, Train Acc: 49.36%, Val Loss: 1.0410, Val Acc: 48.83%\n",
            "Epoch [8/50], Train Loss: 1.0373, Train Acc: 49.36%, Val Loss: 1.0418, Val Acc: 48.83%\n",
            "Early stopping triggered.\n"
          ]
        }
      ],
      "source": [
        "train_losses, train_accs, val_losses, val_accs = training(\n",
        "    model, train_loader, val_loader, criterion, optimizer, num_epochs=50\n",
        ")"
      ]
    },
    {
      "cell_type": "code",
      "execution_count": 31,
      "metadata": {
        "id": "2ICaK1L6KVpu",
        "colab": {
          "base_uri": "https://localhost:8080/",
          "height": 407
        },
        "outputId": "0c55a9c1-52dd-4923-c373-a2a82393ff9f"
      },
      "outputs": [
        {
          "output_type": "display_data",
          "data": {
            "text/plain": [
              "<Figure size 1200x400 with 2 Axes>"
            ],
            "image/png": "[encoded data removed]"
          },
          "metadata": {}
        }
      ],
      "source": [
        "def plot_training_history(train_losses, train_accs, val_losses, val_accs):\n",
        "    plt.figure(figsize=(12, 4))\n",
        "    plt.subplot(1, 2, 1)\n",
        "    plt.plot(train_losses, label='Train Loss', color='blue')\n",
        "    plt.plot(val_losses, label='Val Loss', color='orange')\n",
        "    plt.title('Loss per Epoch')\n",
        "    plt.xlabel('Epoch')\n",
        "    plt.ylabel('Loss')\n",
        "    plt.legend()\n",
        "    plt.grid()\n",
        "\n",
        "    plt.subplot(1, 2, 2)\n",
        "    plt.plot(train_accs, label='Train Acc', color='blue')\n",
        "    plt.plot(val_accs, label='Val Acc', color='orange')\n",
        "    plt.title('Accuracy per Epoch')\n",
        "    plt.xlabel('Epoch')\n",
        "    plt.ylabel('Accuracy (%)')\n",
        "    plt.legend()\n",
        "    plt.grid()\n",
        "\n",
        "    plt.tight_layout()\n",
        "    plt.show()\n",
        "\n",
        "plot_training_history(train_losses, train_accs, val_losses, val_accs)"
      ]
    }
  ],
  "metadata": {
    "accelerator": "GPU",
    "colab": {
      "gpuType": "T4",
      "provenance": []
    },
    "kernelspec": {
      "display_name": "Python 3",
      "name": "python3"
    },
    "language_info": {
      "codemirror_mode": {
        "name": "ipython",
        "version": 3
      },
      "file_extension": ".py",
      "mimetype": "text/x-python",
      "name": "python",
      "nbconvert_exporter": "python",
      "pygments_lexer": "ipython3",
      "version": "3.10.11"
    }
  },
  "nbformat": 4,
  "nbformat_minor": 0
}