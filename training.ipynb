{
 "cells": [
  {
   "cell_type": "code",
   "execution_count": 1,
   "metadata": {},
   "outputs": [],
   "source": [
    "import re\n",
    "from nltk.corpus import stopwords\n",
    "import pandas as pd\n",
    "import numpy as np\n",
    "from sklearn.feature_extraction.text import TfidfVectorizer\n",
    "from sklearn.model_selection import train_test_split\n",
    "from sklearn.metrics import accuracy_score\n",
    "from sklearn.preprocessing import LabelEncoder, OneHotEncoder\n",
    "from xgboost import XGBClassifier\n",
    "from sklearn.svm import SVC\n",
    "from sklearn.ensemble import RandomForestClassifier"
   ]
  },
  {
   "cell_type": "code",
   "execution_count": 2,
   "metadata": {},
   "outputs": [],
   "source": [
    "def bersihkan_teks(teks):\n",
    "    teks = teks.lower()\n",
    "    teks = re.sub(r'\\d+', '', teks)\n",
    "    teks = re.sub(r\"http\\S+|www\\S+|https\\S+\", \"\", teks, flags=re.MULTILINE)\n",
    "    teks = re.sub(r\"@\\w+|#\", \"\", teks)\n",
    "    teks = re.sub(r\"[^\\w\\s]\", \"\", teks)\n",
    "    teks = re.sub(r'<.*?>', '', teks)\n",
    "    teks = re.sub(r'\\s+', ' ', teks).strip()\n",
    "    teks = \" \".join([word for word in teks.split() if word not in stopwords.words(\"indonesian\")])\n",
    "    return teks"
   ]
  },
  {
   "cell_type": "code",
   "execution_count": 3,
   "metadata": {},
   "outputs": [],
   "source": [
    "df = pd.read_csv(\"dataset_pengaduan.csv\")"
   ]
  },
  {
   "cell_type": "code",
   "execution_count": 4,
   "metadata": {},
   "outputs": [],
   "source": [
    "df['konten'] = df['pengaduan'].apply(bersihkan_teks)\n",
    "df['pengaduan'] = df['konten']\n",
    "df.drop(columns=['pengaduan'], inplace=True)"
   ]
  },
  {
   "cell_type": "code",
   "execution_count": 5,
   "metadata": {},
   "outputs": [
    {
     "data": {
      "text/html": [
       "<div>\n",
       "<style scoped>\n",
       "    .dataframe tbody tr th:only-of-type {\n",
       "        vertical-align: middle;\n",
       "    }\n",
       "\n",
       "    .dataframe tbody tr th {\n",
       "        vertical-align: top;\n",
       "    }\n",
       "\n",
       "    .dataframe thead th {\n",
       "        text-align: right;\n",
       "    }\n",
       "</style>\n",
       "<table border=\"1\" class=\"dataframe\">\n",
       "  <thead>\n",
       "    <tr style=\"text-align: right;\">\n",
       "      <th></th>\n",
       "      <th>konten</th>\n",
       "      <th>kategori</th>\n",
       "      <th>sentimen</th>\n",
       "    </tr>\n",
       "  </thead>\n",
       "  <tbody>\n",
       "    <tr>\n",
       "      <th>0</th>\n",
       "      <td>kemacetan parah area parkir pintu masuk</td>\n",
       "      <td>Transportasi</td>\n",
       "      <td>negatif</td>\n",
       "    </tr>\n",
       "    <tr>\n",
       "      <th>1</th>\n",
       "      <td>kualitas pengajaran menurun perpustakaan perpu...</td>\n",
       "      <td>Pendidikan</td>\n",
       "      <td>positif</td>\n",
       "    </tr>\n",
       "    <tr>\n",
       "      <th>2</th>\n",
       "      <td>fasilitas sekolah manajemen buruk minim ruang ...</td>\n",
       "      <td>Pendidikan</td>\n",
       "      <td>negatif</td>\n",
       "    </tr>\n",
       "    <tr>\n",
       "      <th>3</th>\n",
       "      <td>ketersediaan obat darurat mencukupi menit pasien</td>\n",
       "      <td>Kesehatan</td>\n",
       "      <td>positif</td>\n",
       "    </tr>\n",
       "    <tr>\n",
       "      <th>4</th>\n",
       "      <td>jadwal bus menit terlambat penumpang pagi</td>\n",
       "      <td>Transportasi</td>\n",
       "      <td>netral</td>\n",
       "    </tr>\n",
       "  </tbody>\n",
       "</table>\n",
       "</div>"
      ],
      "text/plain": [
       "                                              konten      kategori sentimen\n",
       "0            kemacetan parah area parkir pintu masuk  Transportasi  negatif\n",
       "1  kualitas pengajaran menurun perpustakaan perpu...    Pendidikan  positif\n",
       "2  fasilitas sekolah manajemen buruk minim ruang ...    Pendidikan  negatif\n",
       "3   ketersediaan obat darurat mencukupi menit pasien     Kesehatan  positif\n",
       "4          jadwal bus menit terlambat penumpang pagi  Transportasi   netral"
      ]
     },
     "execution_count": 5,
     "metadata": {},
     "output_type": "execute_result"
    }
   ],
   "source": [
    "df_classification = df[['konten', 'kategori', 'sentimen']]\n",
    "df_classification.head()"
   ]
  },
  {
   "cell_type": "markdown",
   "metadata": {},
   "source": [
    "Ekstrasi fitur menggunakan TF-IDF untuk menghitung nilai dari kata."
   ]
  },
  {
   "cell_type": "code",
   "execution_count": 6,
   "metadata": {},
   "outputs": [],
   "source": [
    "tfidf = TfidfVectorizer()\n",
    "konten_tfidf = tfidf.fit_transform(df_classification['konten'])"
   ]
  },
  {
   "cell_type": "markdown",
   "metadata": {},
   "source": [
    "Mengubah kategori menjadi label agar bisa digabung untuk meningkatkan kualitas training."
   ]
  },
  {
   "cell_type": "code",
   "execution_count": 7,
   "metadata": {},
   "outputs": [],
   "source": [
    "ohe = OneHotEncoder()\n",
    "kategori_encode = ohe.fit_transform(df_classification[['kategori']]).toarray()"
   ]
  },
  {
   "cell_type": "code",
   "execution_count": 8,
   "metadata": {},
   "outputs": [],
   "source": [
    "konten_array = konten_tfidf.toarray()"
   ]
  },
  {
   "cell_type": "markdown",
   "metadata": {},
   "source": [
    "Mengubah sentimen menjadi label, agar bisa digunakan untuk prediksi"
   ]
  },
  {
   "cell_type": "code",
   "execution_count": 9,
   "metadata": {},
   "outputs": [
    {
     "name": "stderr",
     "output_type": "stream",
     "text": [
      "C:\\Users\\kusmo\\AppData\\Local\\Temp\\ipykernel_4680\\3564714912.py:2: SettingWithCopyWarning: \n",
      "A value is trying to be set on a copy of a slice from a DataFrame.\n",
      "Try using .loc[row_indexer,col_indexer] = value instead\n",
      "\n",
      "See the caveats in the documentation: https://pandas.pydata.org/pandas-docs/stable/user_guide/indexing.html#returning-a-view-versus-a-copy\n",
      "  df_classification['sentimen'] = le.fit_transform(df_classification['sentimen'])\n"
     ]
    }
   ],
   "source": [
    "le = LabelEncoder()\n",
    "df_classification['sentimen'] = le.fit_transform(df_classification['sentimen'])"
   ]
  },
  {
   "cell_type": "markdown",
   "metadata": {},
   "source": [
    "Split data dan Pelatihan"
   ]
  },
  {
   "cell_type": "code",
   "execution_count": 10,
   "metadata": {},
   "outputs": [],
   "source": [
    "X = np.hstack((konten_array, kategori_encode))\n",
    "y = df_classification['sentimen']"
   ]
  },
  {
   "cell_type": "code",
   "execution_count": 11,
   "metadata": {},
   "outputs": [],
   "source": [
    "X_train, X_test, y_train, y_test = train_test_split(\n",
    "    X, \n",
    "    y, \n",
    "    test_size=0.2, \n",
    "    random_state=42)"
   ]
  },
  {
   "cell_type": "code",
   "execution_count": 12,
   "metadata": {},
   "outputs": [],
   "source": [
    "model_xgb = XGBClassifier()\n",
    "model_svc = SVC(kernel='linear', random_state=42)\n",
    "model_rf = RandomForestClassifier(random_state=42)"
   ]
  },
  {
   "cell_type": "code",
   "execution_count": 13,
   "metadata": {},
   "outputs": [],
   "source": [
    "#Training Model XGBoost\n",
    "model_xgb.fit(X_train, y_train)\n",
    "\n",
    "#Prediksi\n",
    "y_train_predic_xgb = model_xgb.predict(X_train)\n",
    "y_test_predic_xgb = model_xgb.predict(X_test)"
   ]
  },
  {
   "cell_type": "code",
   "execution_count": 14,
   "metadata": {},
   "outputs": [
    {
     "name": "stdout",
     "output_type": "stream",
     "text": [
      "Akurasi Training: 0.5134\n",
      "Akurasi Testing: 0.4780\n"
     ]
    }
   ],
   "source": [
    "train_accuracy_xgb = accuracy_score(y_train, y_train_predic_xgb)\n",
    "test_accuracy_xgb = accuracy_score(y_test, y_test_predic_xgb)\n",
    "\n",
    "print(f\"Akurasi Training: {train_accuracy_xgb:.4f}\")\n",
    "print(f\"Akurasi Testing: {test_accuracy_xgb:.4f}\")"
   ]
  },
  {
   "cell_type": "code",
   "execution_count": 15,
   "metadata": {},
   "outputs": [],
   "source": [
    "#Training Model SVC\n",
    "model_svc.fit(X_train, y_train)\n",
    "\n",
    "#Prediksi\n",
    "y_train_predic_svc = model_svc.predict(X_train)\n",
    "y_test_predic_svc = model_svc.predict(X_test)"
   ]
  },
  {
   "cell_type": "code",
   "execution_count": 16,
   "metadata": {},
   "outputs": [
    {
     "name": "stdout",
     "output_type": "stream",
     "text": [
      "Akurasi Training: 0.4936\n",
      "Akurasi Testing: 0.4883\n"
     ]
    }
   ],
   "source": [
    "train_accuracy_svc = accuracy_score(y_train, y_train_predic_svc)\n",
    "test_accuracy_svc = accuracy_score(y_test, y_test_predic_svc)\n",
    "\n",
    "print(f\"Akurasi Training: {train_accuracy_svc:.4f}\")\n",
    "print(f\"Akurasi Testing: {test_accuracy_svc:.4f}\")"
   ]
  },
  {
   "cell_type": "code",
   "execution_count": 17,
   "metadata": {},
   "outputs": [],
   "source": [
    "#Training Model Random Forest\n",
    "model_rf.fit(X_train, y_train)\n",
    "\n",
    "#Prediksi\n",
    "y_train_predic_rf = model_rf.predict(X_train)\n",
    "y_test_predic_rf = model_rf.predict(X_test)"
   ]
  },
  {
   "cell_type": "code",
   "execution_count": 18,
   "metadata": {},
   "outputs": [
    {
     "name": "stdout",
     "output_type": "stream",
     "text": [
      "Akurasi Training: 0.5242\n",
      "Akurasi Testing: 0.4540\n"
     ]
    }
   ],
   "source": [
    "train_accuracy_rf = accuracy_score(y_train, y_train_predic_rf)\n",
    "test_accuracy_rf = accuracy_score(y_test, y_test_predic_rf)\n",
    "\n",
    "print(f\"Akurasi Training: {train_accuracy_rf:.4f}\")\n",
    "print(f\"Akurasi Testing: {test_accuracy_rf:.4f}\")"
   ]
  }
 ],
 "metadata": {
  "kernelspec": {
   "display_name": "Python 3",
   "language": "python",
   "name": "python3"
  },
  "language_info": {
   "codemirror_mode": {
    "name": "ipython",
    "version": 3
   },
   "file_extension": ".py",
   "mimetype": "text/x-python",
   "name": "python",
   "nbconvert_exporter": "python",
   "pygments_lexer": "ipython3",
   "version": "3.10.11"
  }
 },
 "nbformat": 4,
 "nbformat_minor": 2
}
